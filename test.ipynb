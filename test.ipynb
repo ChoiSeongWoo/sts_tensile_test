{
 "cells": [
  {
   "cell_type": "code",
   "execution_count": 4,
   "metadata": {},
   "outputs": [],
   "source": [
    "import tensorflow as tf\n",
    "import tensorflow_datasets as tfds\n",
    "import time"
   ]
  },
  {
   "cell_type": "code",
   "execution_count": 5,
   "metadata": {},
   "outputs": [
    {
     "name": "stdout",
     "output_type": "stream",
     "text": [
      "Epoch 1/12\n",
      "469/469 [==============================] - 38s 78ms/step - loss: 0.1556 - accuracy: 0.9531 - val_loss: 0.0449 - val_accuracy: 0.9868\n",
      "Epoch 2/12\n",
      "469/469 [==============================] - 36s 77ms/step - loss: 0.0435 - accuracy: 0.9861 - val_loss: 0.0362 - val_accuracy: 0.9868\n",
      "Epoch 3/12\n",
      "469/469 [==============================] - 36s 78ms/step - loss: 0.0272 - accuracy: 0.9912 - val_loss: 0.0317 - val_accuracy: 0.9893\n",
      "Epoch 4/12\n",
      "469/469 [==============================] - 37s 78ms/step - loss: 0.0183 - accuracy: 0.9941 - val_loss: 0.0313 - val_accuracy: 0.9894\n",
      "Epoch 5/12\n",
      "469/469 [==============================] - 37s 78ms/step - loss: 0.0128 - accuracy: 0.9957 - val_loss: 0.0384 - val_accuracy: 0.9887\n",
      "Epoch 6/12\n",
      "469/469 [==============================] - 37s 78ms/step - loss: 0.0120 - accuracy: 0.9959 - val_loss: 0.0322 - val_accuracy: 0.9899\n",
      "Epoch 7/12\n",
      "469/469 [==============================] - 37s 78ms/step - loss: 0.0069 - accuracy: 0.9977 - val_loss: 0.0470 - val_accuracy: 0.9870\n",
      "Epoch 8/12\n",
      "469/469 [==============================] - 37s 78ms/step - loss: 0.0064 - accuracy: 0.9979 - val_loss: 0.0469 - val_accuracy: 0.9883\n",
      "Epoch 9/12\n",
      "469/469 [==============================] - 37s 78ms/step - loss: 0.0060 - accuracy: 0.9980 - val_loss: 0.0443 - val_accuracy: 0.9888\n",
      "Epoch 10/12\n",
      "469/469 [==============================] - 37s 80ms/step - loss: 0.0057 - accuracy: 0.9980 - val_loss: 0.0444 - val_accuracy: 0.9889\n",
      "Epoch 11/12\n",
      "469/469 [==============================] - 38s 81ms/step - loss: 0.0039 - accuracy: 0.9986 - val_loss: 0.0457 - val_accuracy: 0.9888\n",
      "Epoch 12/12\n",
      "469/469 [==============================] - 37s 80ms/step - loss: 0.0055 - accuracy: 0.9981 - val_loss: 0.0446 - val_accuracy: 0.9892\n",
      "time : 444.84507989883423\n"
     ]
    }
   ],
   "source": [
    "start = time.time()\n",
    "(ds_train, ds_test), ds_info = tfds.load(\n",
    "    'mnist',\n",
    "    split=['train', 'test'],\n",
    "    shuffle_files=True,\n",
    "    as_supervised=True,\n",
    "    with_info=True,\n",
    ")\n",
    "\n",
    "def normalize_img(image, label):\n",
    "  \"\"\"Normalizes images: `uint8` -> `float32`.\"\"\"\n",
    "  return tf.cast(image, tf.float32) / 255., label\n",
    "\n",
    "batch_size = 128\n",
    "\n",
    "ds_train = ds_train.map(\n",
    "    normalize_img, num_parallel_calls=tf.data.experimental.AUTOTUNE)\n",
    "ds_train = ds_train.cache()\n",
    "ds_train = ds_train.shuffle(ds_info.splits['train'].num_examples)\n",
    "ds_train = ds_train.batch(batch_size)\n",
    "ds_train = ds_train.prefetch(tf.data.experimental.AUTOTUNE)\n",
    "\n",
    "\n",
    "ds_test = ds_test.map(\n",
    "    normalize_img, num_parallel_calls=tf.data.experimental.AUTOTUNE)\n",
    "ds_test = ds_test.batch(batch_size)\n",
    "ds_test = ds_test.cache()\n",
    "ds_test = ds_test.prefetch(tf.data.experimental.AUTOTUNE)\n",
    "\n",
    "\n",
    "model = tf.keras.models.Sequential([\n",
    "  tf.keras.layers.Conv2D(32, kernel_size=(3, 3),\n",
    "                 activation='relu'),\n",
    "  tf.keras.layers.Conv2D(64, kernel_size=(3, 3),\n",
    "                 activation='relu'),\n",
    "  tf.keras.layers.MaxPooling2D(pool_size=(2, 2)),\n",
    "#   tf.keras.layers.Dropout(0.25),\n",
    "  tf.keras.layers.Flatten(),\n",
    "  tf.keras.layers.Dense(128, activation='relu'),\n",
    "#   tf.keras.layers.Dropout(0.5),\n",
    "  tf.keras.layers.Dense(10, activation='softmax')\n",
    "])\n",
    "model.compile(\n",
    "    loss='sparse_categorical_crossentropy',\n",
    "    optimizer=tf.keras.optimizers.Adam(0.001),\n",
    "    metrics=['accuracy'],\n",
    ")\n",
    "\n",
    "model.fit(\n",
    "    ds_train,\n",
    "    epochs=12,\n",
    "    validation_data=ds_test,\n",
    ")\n",
    "\n",
    "print(\"time :\", time.time()-start) # 7분 16.5초 / 7분 24.8초"
   ]
  },
  {
   "cell_type": "code",
   "execution_count": null,
   "metadata": {},
   "outputs": [],
   "source": []
  }
 ],
 "metadata": {
  "interpreter": {
   "hash": "fb918120047b7c2711279648d7aca6cfa447254a197d5740caf19e269a70cab2"
  },
  "kernelspec": {
   "display_name": "Python 3.8.3 64-bit",
   "language": "python",
   "name": "python3"
  },
  "language_info": {
   "codemirror_mode": {
    "name": "ipython",
    "version": 3
   },
   "file_extension": ".py",
   "mimetype": "text/x-python",
   "name": "python",
   "nbconvert_exporter": "python",
   "pygments_lexer": "ipython3",
   "version": "3.8.3"
  },
  "orig_nbformat": 4
 },
 "nbformat": 4,
 "nbformat_minor": 2
}
