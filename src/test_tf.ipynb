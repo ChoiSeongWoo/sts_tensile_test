{
 "cells": [
  {
   "cell_type": "code",
   "execution_count": 16,
   "metadata": {},
   "outputs": [
    {
     "name": "stdout",
     "output_type": "stream",
     "text": [
      "Collecting package metadata (current_repodata.json): done\n",
      "Solving environment: done\n",
      "\n",
      "# All requested packages already installed.\n",
      "\n"
     ]
    }
   ],
   "source": [
    "!conda install -c apple tensorflow-deps==2.7"
   ]
  },
  {
   "cell_type": "code",
   "execution_count": 17,
   "metadata": {},
   "outputs": [
    {
     "name": "stdout",
     "output_type": "stream",
     "text": [
      "tensorboard               2.6.0              pyhd8ed1ab_1    conda-forge\n",
      "tensorboard-data-server   0.6.0            py38h10d4710_1    conda-forge\n",
      "tensorboard-plugin-wit    1.8.1              pyhd8ed1ab_0    conda-forge\n",
      "tensorflow-deps           2.7.0                         0    apple\n",
      "tensorflow-estimator      2.7.0                    pypi_0    pypi\n",
      "tensorflow-macos          2.7.0                    pypi_0    pypi\n",
      "tensorflow-metal          0.3.0                    pypi_0    pypi\n"
     ]
    }
   ],
   "source": [
    "!conda list | grep tensor"
   ]
  },
  {
   "cell_type": "code",
   "execution_count": 4,
   "metadata": {},
   "outputs": [
    {
     "name": "stdout",
     "output_type": "stream",
     "text": [
      "Collecting tensorflow-macos\n",
      "  Downloading tensorflow_macos-2.7.0-cp38-cp38-macosx_11_0_arm64.whl (179.0 MB)\n",
      "     |████████████████████████████████| 179.0 MB 60.4 MB/s            \n",
      "\u001b[?25hRequirement already satisfied: numpy>=1.14.5 in /Users/shawn/miniforge3/envs/py38-tf/lib/python3.8/site-packages (from tensorflow-macos) (1.19.5)\n",
      "Requirement already satisfied: typing-extensions>=3.6.6 in /Users/shawn/miniforge3/envs/py38-tf/lib/python3.8/site-packages (from tensorflow-macos) (3.7.4.3)\n",
      "Requirement already satisfied: keras-preprocessing>=1.1.1 in /Users/shawn/miniforge3/envs/py38-tf/lib/python3.8/site-packages (from tensorflow-macos) (1.1.2)\n",
      "Requirement already satisfied: six>=1.12.0 in /Users/shawn/miniforge3/envs/py38-tf/lib/python3.8/site-packages (from tensorflow-macos) (1.15.0)\n",
      "Requirement already satisfied: h5py>=2.9.0 in /Users/shawn/miniforge3/envs/py38-tf/lib/python3.8/site-packages (from tensorflow-macos) (3.1.0)\n",
      "Requirement already satisfied: termcolor>=1.1.0 in /Users/shawn/miniforge3/envs/py38-tf/lib/python3.8/site-packages (from tensorflow-macos) (1.1.0)\n",
      "Requirement already satisfied: grpcio<2.0,>=1.24.3 in /Users/shawn/miniforge3/envs/py38-tf/lib/python3.8/site-packages (from tensorflow-macos) (1.43.0)\n",
      "Requirement already satisfied: astunparse>=1.6.0 in /Users/shawn/miniforge3/envs/py38-tf/lib/python3.8/site-packages (from tensorflow-macos) (1.6.3)\n",
      "Collecting flatbuffers<3.0,>=1.12\n",
      "  Using cached flatbuffers-2.0-py2.py3-none-any.whl (26 kB)\n",
      "Collecting libclang>=9.0.1\n",
      "  Using cached libclang-13.0.0-py2.py3-none-macosx_11_0_arm64.whl (12.2 MB)\n",
      "Requirement already satisfied: tensorboard~=2.6 in /Users/shawn/miniforge3/envs/py38-tf/lib/python3.8/site-packages (from tensorflow-macos) (2.6.0)\n",
      "Requirement already satisfied: google-pasta>=0.1.1 in /Users/shawn/miniforge3/envs/py38-tf/lib/python3.8/site-packages (from tensorflow-macos) (0.2.0)\n",
      "Requirement already satisfied: keras<2.8,>=2.7.0rc0 in /Users/shawn/miniforge3/envs/py38-tf/lib/python3.8/site-packages (from tensorflow-macos) (2.7.0)\n",
      "Requirement already satisfied: absl-py>=0.4.0 in /Users/shawn/miniforge3/envs/py38-tf/lib/python3.8/site-packages (from tensorflow-macos) (0.10.0)\n",
      "Requirement already satisfied: opt-einsum>=2.3.2 in /Users/shawn/miniforge3/envs/py38-tf/lib/python3.8/site-packages (from tensorflow-macos) (3.3.0)\n",
      "Requirement already satisfied: protobuf>=3.9.2 in /Users/shawn/miniforge3/envs/py38-tf/lib/python3.8/site-packages (from tensorflow-macos) (3.19.3)\n",
      "Requirement already satisfied: gast<0.5.0,>=0.2.1 in /Users/shawn/miniforge3/envs/py38-tf/lib/python3.8/site-packages (from tensorflow-macos) (0.4.0)\n",
      "Collecting tensorflow-estimator<2.8,~=2.7.0rc0\n",
      "  Using cached tensorflow_estimator-2.7.0-py2.py3-none-any.whl (463 kB)\n",
      "Requirement already satisfied: wheel<1.0,>=0.32.0 in /Users/shawn/miniforge3/envs/py38-tf/lib/python3.8/site-packages (from tensorflow-macos) (0.35.1)\n",
      "Requirement already satisfied: wrapt>=1.11.0 in /Users/shawn/miniforge3/envs/py38-tf/lib/python3.8/site-packages (from tensorflow-macos) (1.12.1)\n",
      "Requirement already satisfied: setuptools>=41.0.0 in /Users/shawn/miniforge3/envs/py38-tf/lib/python3.8/site-packages (from tensorboard~=2.6->tensorflow-macos) (60.5.0)\n",
      "Requirement already satisfied: werkzeug>=0.11.15 in /Users/shawn/miniforge3/envs/py38-tf/lib/python3.8/site-packages (from tensorboard~=2.6->tensorflow-macos) (2.0.2)\n",
      "Requirement already satisfied: tensorboard-data-server<0.7.0,>=0.6.0 in /Users/shawn/miniforge3/envs/py38-tf/lib/python3.8/site-packages (from tensorboard~=2.6->tensorflow-macos) (0.6.0)\n",
      "Requirement already satisfied: tensorboard-plugin-wit>=1.6.0 in /Users/shawn/miniforge3/envs/py38-tf/lib/python3.8/site-packages (from tensorboard~=2.6->tensorflow-macos) (1.8.1)\n",
      "Requirement already satisfied: markdown>=2.6.8 in /Users/shawn/miniforge3/envs/py38-tf/lib/python3.8/site-packages (from tensorboard~=2.6->tensorflow-macos) (3.3.6)\n",
      "Requirement already satisfied: google-auth<2,>=1.6.3 in /Users/shawn/miniforge3/envs/py38-tf/lib/python3.8/site-packages (from tensorboard~=2.6->tensorflow-macos) (1.35.0)\n",
      "Requirement already satisfied: google-auth-oauthlib<0.5,>=0.4.1 in /Users/shawn/miniforge3/envs/py38-tf/lib/python3.8/site-packages (from tensorboard~=2.6->tensorflow-macos) (0.4.6)\n",
      "Requirement already satisfied: requests<3,>=2.21.0 in /Users/shawn/miniforge3/envs/py38-tf/lib/python3.8/site-packages (from tensorboard~=2.6->tensorflow-macos) (2.27.1)\n",
      "Requirement already satisfied: rsa<5,>=3.1.4 in /Users/shawn/miniforge3/envs/py38-tf/lib/python3.8/site-packages (from google-auth<2,>=1.6.3->tensorboard~=2.6->tensorflow-macos) (4.8)\n",
      "Requirement already satisfied: pyasn1-modules>=0.2.1 in /Users/shawn/miniforge3/envs/py38-tf/lib/python3.8/site-packages (from google-auth<2,>=1.6.3->tensorboard~=2.6->tensorflow-macos) (0.2.7)\n",
      "Requirement already satisfied: cachetools<5.0,>=2.0.0 in /Users/shawn/miniforge3/envs/py38-tf/lib/python3.8/site-packages (from google-auth<2,>=1.6.3->tensorboard~=2.6->tensorflow-macos) (4.2.4)\n",
      "Requirement already satisfied: requests-oauthlib>=0.7.0 in /Users/shawn/miniforge3/envs/py38-tf/lib/python3.8/site-packages (from google-auth-oauthlib<0.5,>=0.4.1->tensorboard~=2.6->tensorflow-macos) (1.3.0)\n",
      "Requirement already satisfied: importlib-metadata>=4.4 in /Users/shawn/miniforge3/envs/py38-tf/lib/python3.8/site-packages (from markdown>=2.6.8->tensorboard~=2.6->tensorflow-macos) (4.10.1)\n",
      "Requirement already satisfied: idna<4,>=2.5 in /Users/shawn/miniforge3/envs/py38-tf/lib/python3.8/site-packages (from requests<3,>=2.21.0->tensorboard~=2.6->tensorflow-macos) (3.3)\n",
      "Requirement already satisfied: charset-normalizer~=2.0.0 in /Users/shawn/miniforge3/envs/py38-tf/lib/python3.8/site-packages (from requests<3,>=2.21.0->tensorboard~=2.6->tensorflow-macos) (2.0.10)\n",
      "Requirement already satisfied: urllib3<1.27,>=1.21.1 in /Users/shawn/miniforge3/envs/py38-tf/lib/python3.8/site-packages (from requests<3,>=2.21.0->tensorboard~=2.6->tensorflow-macos) (1.26.8)\n",
      "Requirement already satisfied: certifi>=2017.4.17 in /Users/shawn/miniforge3/envs/py38-tf/lib/python3.8/site-packages (from requests<3,>=2.21.0->tensorboard~=2.6->tensorflow-macos) (2021.10.8)\n",
      "Requirement already satisfied: zipp>=0.5 in /Users/shawn/miniforge3/envs/py38-tf/lib/python3.8/site-packages (from importlib-metadata>=4.4->markdown>=2.6.8->tensorboard~=2.6->tensorflow-macos) (3.7.0)\n",
      "Requirement already satisfied: pyasn1<0.5.0,>=0.4.6 in /Users/shawn/miniforge3/envs/py38-tf/lib/python3.8/site-packages (from pyasn1-modules>=0.2.1->google-auth<2,>=1.6.3->tensorboard~=2.6->tensorflow-macos) (0.4.8)\n",
      "Requirement already satisfied: oauthlib>=3.0.0 in /Users/shawn/miniforge3/envs/py38-tf/lib/python3.8/site-packages (from requests-oauthlib>=0.7.0->google-auth-oauthlib<0.5,>=0.4.1->tensorboard~=2.6->tensorflow-macos) (3.1.1)\n",
      "Installing collected packages: tensorflow-estimator, libclang, flatbuffers, tensorflow-macos\n",
      "Successfully installed flatbuffers-2.0 libclang-13.0.0 tensorflow-estimator-2.7.0 tensorflow-macos-2.7.0\n"
     ]
    }
   ],
   "source": [
    "!python -m pip install tensorflow-macos==2.8\n"
   ]
  },
  {
   "cell_type": "code",
   "execution_count": 5,
   "metadata": {},
   "outputs": [
    {
     "name": "stdout",
     "output_type": "stream",
     "text": [
      "Collecting tensorflow-metal\n",
      "  Downloading tensorflow_metal-0.3.0-cp38-cp38-macosx_11_0_arm64.whl (1.2 MB)\n",
      "     |████████████████████████████████| 1.2 MB 26.7 MB/s            \n",
      "\u001b[?25hRequirement already satisfied: wheel~=0.35 in /Users/shawn/miniforge3/envs/py38-tf/lib/python3.8/site-packages (from tensorflow-metal) (0.35.1)\n",
      "Requirement already satisfied: six~=1.15.0 in /Users/shawn/miniforge3/envs/py38-tf/lib/python3.8/site-packages (from tensorflow-metal) (1.15.0)\n",
      "Installing collected packages: tensorflow-metal\n",
      "Successfully installed tensorflow-metal-0.3.0\n"
     ]
    }
   ],
   "source": [
    "!python -m pip install tensorflow-metal\n"
   ]
  },
  {
   "cell_type": "code",
   "execution_count": 25,
   "metadata": {},
   "outputs": [
    {
     "name": "stdout",
     "output_type": "stream",
     "text": [
      "Collecting tensorflow_datasets\n",
      "  Using cached tensorflow_datasets-4.5.0-py3-none-any.whl (4.2 MB)\n",
      "Collecting tqdm\n",
      "  Downloading tqdm-4.62.3-py2.py3-none-any.whl (76 kB)\n",
      "     |████████████████████████████████| 76 kB 16.5 MB/s            \n",
      "\u001b[?25hCollecting promise\n",
      "  Using cached promise-2.3.tar.gz (19 kB)\n",
      "  Preparing metadata (setup.py) ... \u001b[?25ldone\n",
      "\u001b[?25hCollecting tensorflow-metadata\n",
      "  Using cached tensorflow_metadata-1.6.0-py3-none-any.whl (48 kB)\n",
      "Requirement already satisfied: termcolor in /Users/shawn/miniforge3/envs/py38-tf/lib/python3.8/site-packages (from tensorflow_datasets) (1.1.0)\n",
      "Requirement already satisfied: requests>=2.19.0 in /Users/shawn/miniforge3/envs/py38-tf/lib/python3.8/site-packages (from tensorflow_datasets) (2.27.1)\n",
      "Requirement already satisfied: six in /Users/shawn/miniforge3/envs/py38-tf/lib/python3.8/site-packages (from tensorflow_datasets) (1.15.0)\n",
      "Requirement already satisfied: protobuf>=3.12.2 in /Users/shawn/miniforge3/envs/py38-tf/lib/python3.8/site-packages (from tensorflow_datasets) (3.19.3)\n",
      "Requirement already satisfied: numpy in /Users/shawn/miniforge3/envs/py38-tf/lib/python3.8/site-packages (from tensorflow_datasets) (1.19.5)\n",
      "Requirement already satisfied: absl-py in /Users/shawn/miniforge3/envs/py38-tf/lib/python3.8/site-packages (from tensorflow_datasets) (0.10.0)\n",
      "Collecting importlib-resources\n",
      "  Downloading importlib_resources-5.4.0-py3-none-any.whl (28 kB)\n",
      "Collecting dill\n",
      "  Using cached dill-0.3.4-py2.py3-none-any.whl (86 kB)\n",
      "Requirement already satisfied: charset-normalizer~=2.0.0 in /Users/shawn/miniforge3/envs/py38-tf/lib/python3.8/site-packages (from requests>=2.19.0->tensorflow_datasets) (2.0.10)\n",
      "Requirement already satisfied: certifi>=2017.4.17 in /Users/shawn/miniforge3/envs/py38-tf/lib/python3.8/site-packages (from requests>=2.19.0->tensorflow_datasets) (2021.10.8)\n",
      "Requirement already satisfied: idna<4,>=2.5 in /Users/shawn/miniforge3/envs/py38-tf/lib/python3.8/site-packages (from requests>=2.19.0->tensorflow_datasets) (3.3)\n",
      "Requirement already satisfied: urllib3<1.27,>=1.21.1 in /Users/shawn/miniforge3/envs/py38-tf/lib/python3.8/site-packages (from requests>=2.19.0->tensorflow_datasets) (1.26.8)\n",
      "Requirement already satisfied: zipp>=3.1.0 in /Users/shawn/miniforge3/envs/py38-tf/lib/python3.8/site-packages (from importlib-resources->tensorflow_datasets) (3.7.0)\n",
      "Collecting googleapis-common-protos<2,>=1.52.0\n",
      "  Using cached googleapis_common_protos-1.54.0-py2.py3-none-any.whl (207 kB)\n",
      "Building wheels for collected packages: promise\n",
      "  Building wheel for promise (setup.py) ... \u001b[?25ldone\n",
      "\u001b[?25h  Created wheel for promise: filename=promise-2.3-py3-none-any.whl size=21503 sha256=65decf15a9e89f326c50061f610ab097f0847a064923739d133a1e380cf0bb09\n",
      "  Stored in directory: /Users/shawn/Library/Caches/pip/wheels/54/aa/01/724885182f93150035a2a91bce34a12877e8067a97baaf5dc8\n",
      "Successfully built promise\n",
      "Installing collected packages: googleapis-common-protos, tqdm, tensorflow-metadata, promise, importlib-resources, dill, tensorflow-datasets\n",
      "Successfully installed dill-0.3.4 googleapis-common-protos-1.54.0 importlib-resources-5.4.0 promise-2.3 tensorflow-datasets-4.5.0 tensorflow-metadata-1.6.0 tqdm-4.62.3\n"
     ]
    }
   ],
   "source": [
    "!python -m pip install tensorflow_datasets"
   ]
  },
  {
   "cell_type": "code",
   "execution_count": 28,
   "metadata": {},
   "outputs": [],
   "source": [
    "import tensorflow.compat.v2 as tf\n",
    "import tensorflow_datasets as tfds\n",
    "\n",
    "import time"
   ]
  },
  {
   "cell_type": "code",
   "execution_count": 21,
   "metadata": {},
   "outputs": [
    {
     "data": {
      "text/plain": [
       "'3.8.12 | packaged by conda-forge | (default, Oct 12 2021, 21:21:17) \\n[Clang 11.1.0 ]'"
      ]
     },
     "execution_count": 21,
     "metadata": {},
     "output_type": "execute_result"
    }
   ],
   "source": [
    "sys.version"
   ]
  },
  {
   "cell_type": "code",
   "execution_count": 22,
   "metadata": {},
   "outputs": [
    {
     "data": {
      "text/plain": [
       "'2.7.0'"
      ]
     },
     "execution_count": 22,
     "metadata": {},
     "output_type": "execute_result"
    }
   ],
   "source": [
    "tf.__version__"
   ]
  },
  {
   "cell_type": "code",
   "execution_count": 13,
   "metadata": {},
   "outputs": [
    {
     "name": "stdout",
     "output_type": "stream",
     "text": [
      "Metal device set to: Apple M1 Max\n",
      "\n",
      "systemMemory: 32.00 GB\n",
      "maxCacheSize: 10.67 GB\n",
      "\n"
     ]
    },
    {
     "name": "stderr",
     "output_type": "stream",
     "text": [
      "2022-01-27 15:36:11.269913: I tensorflow/core/common_runtime/pluggable_device/pluggable_device_factory.cc:305] Could not identify NUMA node of platform GPU ID 0, defaulting to 0. Your kernel may not have been built with NUMA support.\n",
      "2022-01-27 15:36:11.270111: I tensorflow/core/common_runtime/pluggable_device/pluggable_device_factory.cc:271] Created TensorFlow device (/job:localhost/replica:0/task:0/device:GPU:0 with 0 MB memory) -> physical PluggableDevice (device: 0, name: METAL, pci bus id: <undefined>)\n"
     ]
    }
   ],
   "source": [
    "from tensorflow.keras import layers\n",
    "from tensorflow.keras import models\n",
    "import time\n"
   ]
  },
  {
   "cell_type": "code",
   "execution_count": 29,
   "metadata": {},
   "outputs": [],
   "source": [
    "import tensorflow_datasets as tfds\n",
    "\n",
    "tf.enable_v2_behavior()\n",
    "\n",
    "from tensorflow.python.framework.ops import disable_eager_execution\n",
    "disable_eager_execution()"
   ]
  },
  {
   "cell_type": "code",
   "execution_count": 33,
   "metadata": {},
   "outputs": [
    {
     "name": "stderr",
     "output_type": "stream",
     "text": [
      "2022-01-27 16:02:04.920230: I tensorflow/core/grappler/optimizers/custom_graph_optimizer_registry.cc:112] Plugin optimizer for device_type GPU is enabled.\n",
      "2022-01-27 16:02:04.961207: I tensorflow/core/grappler/optimizers/custom_graph_optimizer_registry.cc:112] Plugin optimizer for device_type GPU is enabled.\n",
      "2022-01-27 16:02:05.037623: I tensorflow/core/grappler/optimizers/custom_graph_optimizer_registry.cc:112] Plugin optimizer for device_type GPU is enabled.\n",
      "2022-01-27 16:02:05.079802: I tensorflow/core/grappler/optimizers/custom_graph_optimizer_registry.cc:112] Plugin optimizer for device_type GPU is enabled.\n",
      "2022-01-27 16:02:05.139000: I tensorflow/core/grappler/optimizers/custom_graph_optimizer_registry.cc:112] Plugin optimizer for device_type GPU is enabled.\n",
      "2022-01-27 16:02:05.184906: I tensorflow/core/grappler/optimizers/custom_graph_optimizer_registry.cc:112] Plugin optimizer for device_type GPU is enabled.\n",
      "2022-01-27 16:02:05.404631: I tensorflow/core/grappler/optimizers/custom_graph_optimizer_registry.cc:112] Plugin optimizer for device_type GPU is enabled.\n",
      "2022-01-27 16:02:05.447276: I tensorflow/core/grappler/optimizers/custom_graph_optimizer_registry.cc:112] Plugin optimizer for device_type GPU is enabled.\n",
      "2022-01-27 16:02:05.480695: I tensorflow/core/grappler/optimizers/custom_graph_optimizer_registry.cc:112] Plugin optimizer for device_type GPU is enabled.\n",
      "2022-01-27 16:02:05.523668: I tensorflow/core/grappler/optimizers/custom_graph_optimizer_registry.cc:112] Plugin optimizer for device_type GPU is enabled.\n",
      "2022-01-27 16:02:05.582019: I tensorflow/core/grappler/optimizers/custom_graph_optimizer_registry.cc:112] Plugin optimizer for device_type GPU is enabled.\n"
     ]
    },
    {
     "name": "stdout",
     "output_type": "stream",
     "text": [
      "Train on 469 steps, validate on 79 steps\n",
      "Epoch 1/12\n"
     ]
    },
    {
     "name": "stderr",
     "output_type": "stream",
     "text": [
      "2022-01-27 16:02:05.619610: I tensorflow/core/grappler/optimizers/custom_graph_optimizer_registry.cc:112] Plugin optimizer for device_type GPU is enabled.\n"
     ]
    },
    {
     "name": "stdout",
     "output_type": "stream",
     "text": [
      "467/469 [============================>.] - ETA: 0s - batch: 233.0000 - size: 1.0000 - loss: 0.1589 - accuracy: 0.9536"
     ]
    },
    {
     "name": "stderr",
     "output_type": "stream",
     "text": [
      "/Users/shawn/miniforge3/envs/py38-tf/lib/python3.8/site-packages/keras/engine/training_v1.py:2057: UserWarning: `Model.state_updates` will be removed in a future version. This property should not be used in TensorFlow 2.0, as `updates` are applied automatically.\n",
      "  updates = self.state_updates\n",
      "2022-01-27 16:02:13.463883: I tensorflow/core/grappler/optimizers/custom_graph_optimizer_registry.cc:112] Plugin optimizer for device_type GPU is enabled.\n"
     ]
    },
    {
     "name": "stdout",
     "output_type": "stream",
     "text": [
      "469/469 [==============================] - 9s 15ms/step - batch: 234.0000 - size: 1.0000 - loss: 0.1586 - accuracy: 0.9537 - val_loss: 0.0519 - val_accuracy: 0.9843\n",
      "Epoch 2/12\n",
      "469/469 [==============================] - 9s 15ms/step - batch: 234.0000 - size: 1.0000 - loss: 0.0442 - accuracy: 0.9863 - val_loss: 0.0434 - val_accuracy: 0.9862\n",
      "Epoch 3/12\n",
      "469/469 [==============================] - 8s 15ms/step - batch: 234.0000 - size: 1.0000 - loss: 0.0282 - accuracy: 0.9909 - val_loss: 0.0345 - val_accuracy: 0.9878\n",
      "Epoch 4/12\n",
      "469/469 [==============================] - 8s 15ms/step - batch: 234.0000 - size: 1.0000 - loss: 0.0192 - accuracy: 0.9941 - val_loss: 0.0378 - val_accuracy: 0.9885\n",
      "Epoch 5/12\n",
      "469/469 [==============================] - 8s 15ms/step - batch: 234.0000 - size: 1.0000 - loss: 0.0148 - accuracy: 0.9954 - val_loss: 0.0326 - val_accuracy: 0.9898\n",
      "Epoch 6/12\n",
      "469/469 [==============================] - 8s 15ms/step - batch: 234.0000 - size: 1.0000 - loss: 0.0109 - accuracy: 0.9965 - val_loss: 0.0361 - val_accuracy: 0.9890\n",
      "Epoch 7/12\n",
      "469/469 [==============================] - 9s 15ms/step - batch: 234.0000 - size: 1.0000 - loss: 0.0085 - accuracy: 0.9970 - val_loss: 0.0432 - val_accuracy: 0.9869\n",
      "Epoch 8/12\n",
      "469/469 [==============================] - 9s 15ms/step - batch: 234.0000 - size: 1.0000 - loss: 0.0058 - accuracy: 0.9981 - val_loss: 0.0379 - val_accuracy: 0.9894\n",
      "Epoch 9/12\n",
      "469/469 [==============================] - 9s 15ms/step - batch: 234.0000 - size: 1.0000 - loss: 0.0055 - accuracy: 0.9982 - val_loss: 0.0421 - val_accuracy: 0.9888\n",
      "Epoch 10/12\n",
      "469/469 [==============================] - 9s 15ms/step - batch: 234.0000 - size: 1.0000 - loss: 0.0052 - accuracy: 0.9981 - val_loss: 0.0646 - val_accuracy: 0.9862\n",
      "Epoch 11/12\n",
      "469/469 [==============================] - 8s 14ms/step - batch: 234.0000 - size: 1.0000 - loss: 0.0053 - accuracy: 0.9982 - val_loss: 0.0442 - val_accuracy: 0.9895\n",
      "Epoch 12/12\n",
      "469/469 [==============================] - 8s 15ms/step - batch: 234.0000 - size: 1.0000 - loss: 0.0041 - accuracy: 0.9987 - val_loss: 0.0385 - val_accuracy: 0.9904\n",
      "time : 103.62630987167358\n"
     ]
    }
   ],
   "source": [
    "start = time.time()\n",
    "(ds_train, ds_test), ds_info = tfds.load(\n",
    "    'mnist',\n",
    "    split=['train', 'test'],\n",
    "    shuffle_files=True,\n",
    "    as_supervised=True,\n",
    "    with_info=True,\n",
    ")\n",
    "\n",
    "def normalize_img(image, label):\n",
    "  \"\"\"Normalizes images: `uint8` -> `float32`.\"\"\"\n",
    "  return tf.cast(image, tf.float32) / 255., label\n",
    "\n",
    "batch_size = 128\n",
    "\n",
    "ds_train = ds_train.map(\n",
    "    normalize_img, num_parallel_calls=tf.data.experimental.AUTOTUNE)\n",
    "ds_train = ds_train.cache()\n",
    "ds_train = ds_train.shuffle(ds_info.splits['train'].num_examples)\n",
    "ds_train = ds_train.batch(batch_size)\n",
    "ds_train = ds_train.prefetch(tf.data.experimental.AUTOTUNE)\n",
    "\n",
    "\n",
    "ds_test = ds_test.map(\n",
    "    normalize_img, num_parallel_calls=tf.data.experimental.AUTOTUNE)\n",
    "ds_test = ds_test.batch(batch_size)\n",
    "ds_test = ds_test.cache()\n",
    "ds_test = ds_test.prefetch(tf.data.experimental.AUTOTUNE)\n",
    "\n",
    "\n",
    "model = tf.keras.models.Sequential([\n",
    "  tf.keras.layers.Conv2D(32, kernel_size=(3, 3),\n",
    "                 activation='relu'),\n",
    "  tf.keras.layers.Conv2D(64, kernel_size=(3, 3),\n",
    "                 activation='relu'),\n",
    "  tf.keras.layers.MaxPooling2D(pool_size=(2, 2)),\n",
    "#   tf.keras.layers.Dropout(0.25),\n",
    "  tf.keras.layers.Flatten(),\n",
    "  tf.keras.layers.Dense(128, activation='relu'),\n",
    "#   tf.keras.layers.Dropout(0.5),\n",
    "  tf.keras.layers.Dense(10, activation='softmax')\n",
    "])\n",
    "model.compile(\n",
    "    loss='sparse_categorical_crossentropy',\n",
    "    optimizer=tf.keras.optimizers.Adam(0.001),\n",
    "    metrics=['accuracy'],\n",
    ")\n",
    "\n",
    "model.fit(\n",
    "    ds_train,\n",
    "    epochs=12,\n",
    "    validation_data=ds_test,\n",
    ")\n",
    "\n",
    "print(\"time :\", time.time()-start) # 1분 28.6초 / 1분 43.6초"
   ]
  },
  {
   "cell_type": "code",
   "execution_count": 32,
   "metadata": {},
   "outputs": [
    {
     "name": "stderr",
     "output_type": "stream",
     "text": [
      "2022-01-27 15:59:54.193740: I tensorflow/core/grappler/optimizers/custom_graph_optimizer_registry.cc:112] Plugin optimizer for device_type GPU is enabled.\n",
      "2022-01-27 15:59:54.221540: I tensorflow/core/grappler/optimizers/custom_graph_optimizer_registry.cc:112] Plugin optimizer for device_type GPU is enabled.\n",
      "2022-01-27 15:59:54.278450: I tensorflow/core/grappler/optimizers/custom_graph_optimizer_registry.cc:112] Plugin optimizer for device_type GPU is enabled.\n",
      "2022-01-27 15:59:54.301389: I tensorflow/core/grappler/optimizers/custom_graph_optimizer_registry.cc:112] Plugin optimizer for device_type GPU is enabled.\n",
      "2022-01-27 15:59:54.346754: I tensorflow/core/grappler/optimizers/custom_graph_optimizer_registry.cc:112] Plugin optimizer for device_type GPU is enabled.\n",
      "2022-01-27 15:59:54.378221: I tensorflow/core/grappler/optimizers/custom_graph_optimizer_registry.cc:112] Plugin optimizer for device_type GPU is enabled.\n",
      "2022-01-27 15:59:54.455023: I tensorflow/core/grappler/optimizers/custom_graph_optimizer_registry.cc:112] Plugin optimizer for device_type GPU is enabled.\n",
      "2022-01-27 15:59:54.483891: I tensorflow/core/grappler/optimizers/custom_graph_optimizer_registry.cc:112] Plugin optimizer for device_type GPU is enabled.\n",
      "2022-01-27 15:59:54.509015: I tensorflow/core/grappler/optimizers/custom_graph_optimizer_registry.cc:112] Plugin optimizer for device_type GPU is enabled.\n",
      "2022-01-27 15:59:54.538613: I tensorflow/core/grappler/optimizers/custom_graph_optimizer_registry.cc:112] Plugin optimizer for device_type GPU is enabled.\n",
      "2022-01-27 15:59:54.579584: I tensorflow/core/grappler/optimizers/custom_graph_optimizer_registry.cc:112] Plugin optimizer for device_type GPU is enabled.\n",
      "2022-01-27 15:59:54.603823: I tensorflow/core/grappler/optimizers/custom_graph_optimizer_registry.cc:112] Plugin optimizer for device_type GPU is enabled.\n"
     ]
    },
    {
     "name": "stdout",
     "output_type": "stream",
     "text": [
      "Train on 469 steps, validate on 79 steps\n",
      "Epoch 1/12\n",
      "469/469 [==============================] - ETA: 0s - batch: 234.0000 - size: 1.0000 - loss: 0.1495 - accuracy: 0.9542"
     ]
    },
    {
     "name": "stderr",
     "output_type": "stream",
     "text": [
      "/Users/shawn/miniforge3/envs/py38-tf/lib/python3.8/site-packages/keras/engine/training_v1.py:2057: UserWarning: `Model.state_updates` will be removed in a future version. This property should not be used in TensorFlow 2.0, as `updates` are applied automatically.\n",
      "  updates = self.state_updates\n",
      "2022-01-27 16:00:00.959106: I tensorflow/core/grappler/optimizers/custom_graph_optimizer_registry.cc:112] Plugin optimizer for device_type GPU is enabled.\n"
     ]
    },
    {
     "name": "stdout",
     "output_type": "stream",
     "text": [
      "469/469 [==============================] - 7s 12ms/step - batch: 234.0000 - size: 1.0000 - loss: 0.1495 - accuracy: 0.9542 - val_loss: 0.0486 - val_accuracy: 0.9847\n",
      "Epoch 2/12\n",
      "469/469 [==============================] - 7s 12ms/step - batch: 234.0000 - size: 1.0000 - loss: 0.0438 - accuracy: 0.9867 - val_loss: 0.0363 - val_accuracy: 0.9878\n",
      "Epoch 3/12\n",
      "469/469 [==============================] - 7s 12ms/step - batch: 234.0000 - size: 1.0000 - loss: 0.0276 - accuracy: 0.9914 - val_loss: 0.0363 - val_accuracy: 0.9884\n",
      "Epoch 4/12\n",
      "469/469 [==============================] - 7s 12ms/step - batch: 234.0000 - size: 1.0000 - loss: 0.0182 - accuracy: 0.9944 - val_loss: 0.0347 - val_accuracy: 0.9897\n",
      "Epoch 5/12\n",
      "469/469 [==============================] - 7s 13ms/step - batch: 234.0000 - size: 1.0000 - loss: 0.0134 - accuracy: 0.9959 - val_loss: 0.0361 - val_accuracy: 0.9895\n",
      "Epoch 6/12\n",
      "469/469 [==============================] - 7s 12ms/step - batch: 234.0000 - size: 1.0000 - loss: 0.0085 - accuracy: 0.9971 - val_loss: 0.0429 - val_accuracy: 0.9878\n",
      "Epoch 7/12\n",
      "469/469 [==============================] - 7s 12ms/step - batch: 234.0000 - size: 1.0000 - loss: 0.0094 - accuracy: 0.9966 - val_loss: 0.0360 - val_accuracy: 0.9904\n",
      "Epoch 8/12\n",
      "469/469 [==============================] - 7s 12ms/step - batch: 234.0000 - size: 1.0000 - loss: 0.0063 - accuracy: 0.9980 - val_loss: 0.0464 - val_accuracy: 0.9869\n",
      "Epoch 9/12\n",
      "469/469 [==============================] - 7s 12ms/step - batch: 234.0000 - size: 1.0000 - loss: 0.0062 - accuracy: 0.9979 - val_loss: 0.0518 - val_accuracy: 0.9868\n",
      "Epoch 10/12\n",
      "469/469 [==============================] - 7s 12ms/step - batch: 234.0000 - size: 1.0000 - loss: 0.0059 - accuracy: 0.9981 - val_loss: 0.0444 - val_accuracy: 0.9889\n",
      "Epoch 11/12\n",
      "469/469 [==============================] - 7s 12ms/step - batch: 234.0000 - size: 1.0000 - loss: 0.0043 - accuracy: 0.9985 - val_loss: 0.0450 - val_accuracy: 0.9893\n",
      "Epoch 12/12\n",
      "469/469 [==============================] - 7s 12ms/step - batch: 234.0000 - size: 1.0000 - loss: 0.0032 - accuracy: 0.9990 - val_loss: 0.0546 - val_accuracy: 0.9880\n",
      "time : 83.14082193374634\n"
     ]
    }
   ],
   "source": [
    "start = time.time()\n",
    "(ds_train, ds_test), ds_info = tfds.load(\n",
    "    'mnist',\n",
    "    split=['train', 'test'],\n",
    "    shuffle_files=True,\n",
    "    as_supervised=True,\n",
    "    with_info=True,\n",
    ")\n",
    "\n",
    "def normalize_img(image, label):\n",
    "  \"\"\"Normalizes images: `uint8` -> `float32`.\"\"\"\n",
    "  return tf.cast(image, tf.float32) / 255., label\n",
    "\n",
    "batch_size = 128\n",
    "\n",
    "ds_train = ds_train.map(\n",
    "    normalize_img, num_parallel_calls=tf.data.experimental.AUTOTUNE)\n",
    "ds_train = ds_train.cache()\n",
    "ds_train = ds_train.shuffle(ds_info.splits['train'].num_examples)\n",
    "ds_train = ds_train.batch(batch_size)\n",
    "ds_train = ds_train.prefetch(tf.data.experimental.AUTOTUNE)\n",
    "\n",
    "\n",
    "ds_test = ds_test.map(\n",
    "    normalize_img, num_parallel_calls=tf.data.experimental.AUTOTUNE)\n",
    "ds_test = ds_test.batch(batch_size)\n",
    "ds_test = ds_test.cache()\n",
    "ds_test = ds_test.prefetch(tf.data.experimental.AUTOTUNE)\n",
    "\n",
    "\n",
    "model = tf.keras.models.Sequential([\n",
    "  tf.keras.layers.Conv2D(32, kernel_size=(3, 3),\n",
    "                 activation='relu'),\n",
    "  tf.keras.layers.Conv2D(64, kernel_size=(3, 3),\n",
    "                 activation='relu'),\n",
    "  tf.keras.layers.MaxPooling2D(pool_size=(2, 2)),\n",
    "#   tf.keras.layers.Dropout(0.25),\n",
    "  tf.keras.layers.Flatten(),\n",
    "  tf.keras.layers.Dense(128, activation='relu'),\n",
    "#   tf.keras.layers.Dropout(0.5),\n",
    "  tf.keras.layers.Dense(10, activation='softmax')\n",
    "])\n",
    "model.compile(\n",
    "    loss='sparse_categorical_crossentropy',\n",
    "    optimizer=tf.keras.optimizers.Adam(0.001),\n",
    "    metrics=['accuracy'],\n",
    ")\n",
    "\n",
    "model.fit(\n",
    "    ds_train,\n",
    "    epochs=12,\n",
    "    validation_data=ds_test,\n",
    ")\n",
    "\n",
    "print(\"time :\", time.time()-start) # 1분 20.9초 / 1분 21.4초 / 1분 23.1초"
   ]
  },
  {
   "cell_type": "code",
   "execution_count": null,
   "metadata": {},
   "outputs": [],
   "source": []
  }
 ],
 "metadata": {
  "interpreter": {
   "hash": "9e5a7e1b51993e37b039ed03eca0a1a9509b03cd6ffcf70c616b2fb1ec58af4d"
  },
  "kernelspec": {
   "display_name": "Python 3.8.12 64-bit ('py38-tf': conda)",
   "language": "python",
   "name": "python3"
  },
  "language_info": {
   "codemirror_mode": {
    "name": "ipython",
    "version": 3
   },
   "file_extension": ".py",
   "mimetype": "text/x-python",
   "name": "python",
   "nbconvert_exporter": "python",
   "pygments_lexer": "ipython3",
   "version": "3.8.12"
  },
  "orig_nbformat": 4
 },
 "nbformat": 4,
 "nbformat_minor": 2
}
